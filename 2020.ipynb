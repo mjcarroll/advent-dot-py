{
 "cells": [
  {
   "cell_type": "code",
   "execution_count": 1,
   "metadata": {},
   "outputs": [
    {
     "name": "stdout",
     "output_type": "stream",
     "text": [
      "Populating the interactive namespace from numpy and matplotlib\n"
     ]
    }
   ],
   "source": [
    "%pylab inline\n",
    "import numpy as np\n",
    "import advent\n",
    "\n",
    "read_lines = lambda day, test=False: advent.read_lines(2020, day, test)"
   ]
  },
  {
   "cell_type": "code",
   "execution_count": 2,
   "metadata": {},
   "outputs": [],
   "source": [
    "def day1(lines):\n",
    "    vals = advent.lines_as_ints(lines)\n",
    "\n",
    "    for ii in range(0, len(vals)):\n",
    "        sums = vals + np.roll(vals, ii)\n",
    "        if np.any(sums == 2020):\n",
    "            break\n",
    "\n",
    "    idx = np.where(sums == 2020)[0][0]\n",
    "    p1 = vals[idx] * np.roll(vals, ii)[idx]\n",
    "\n",
    "    for ii in range(0, len(vals)):\n",
    "        for jj in range(0, len(vals)):\n",
    "            sums = vals + np.roll(vals, ii) + np.roll(vals, jj)\n",
    "            if np.any(sums == 2020):\n",
    "                break\n",
    "        if np.any(sums == 2020):\n",
    "            break\n",
    "\n",
    "    idx = np.where(sums == 2020)[0][0]\n",
    "    p2 = vals[idx] * np.roll(vals, ii)[idx] * np.roll(vals, jj)[idx]\n",
    "    return (p1, p2)"
   ]
  },
  {
   "cell_type": "code",
   "execution_count": 3,
   "metadata": {},
   "outputs": [],
   "source": [
    "import re\n",
    "from collections import Counter\n",
    "\n",
    "def day2(lines):\n",
    "    p = re.compile(r'(?P<low>\\d+)-(?P<high>\\d+) (?P<char>\\w): (?P<pwd>\\w+)')\n",
    "\n",
    "    valid = 0\n",
    "    for line in lines:\n",
    "        vals = p.search(line).groupdict()\n",
    "        c = Counter(vals['pwd'])\n",
    "        count = c[vals['char']]\n",
    "\n",
    "        if count >= int(vals['low']) and count <= int(vals['high']):\n",
    "            valid = valid + 1\n",
    "    p1 = valid\n",
    "\n",
    "    valid = 0\n",
    "    for line in lines:\n",
    "        vals = p.search(line).groupdict()\n",
    "        idx1 = int(vals['low'])\n",
    "        idx2 = int(vals['high'])\n",
    "        pwd = vals['pwd']\n",
    "        c = vals['char']\n",
    "        \n",
    "        if pwd[idx1-1] == c and not pwd[idx2-1] == c:\n",
    "            valid = valid + 1\n",
    "        elif pwd[idx2-1] == c and not pwd[idx1-1] == c:\n",
    "            valid = valid + 1\n",
    "    p2 = valid\n",
    "    return (p1, p2)"
   ]
  },
  {
   "cell_type": "code",
   "execution_count": 8,
   "metadata": {},
   "outputs": [],
   "source": [
    "def day12(lines):\n",
    "    nav = []\n",
    "    for line in lines:\n",
    "        p = re.compile(r'(?P<action>\\w)(?P<value>\\d+)')\n",
    "        action = p.search(line).group('action')\n",
    "        value = int(p.search(line).group('value'))\n",
    "        nav.append((action, value))\n",
    "\n",
    "    dd = np.array([1, 0])\n",
    "    pos = np.array([0, 0])\n",
    "\n",
    "    for (action, value) in nav:\n",
    "        if action == 'F':\n",
    "            pos = pos + value * dd   \n",
    "        elif action == 'N':\n",
    "            pos[1] = pos[1] + value\n",
    "        elif action == 'S':\n",
    "            pos[1] = pos[1] - value\n",
    "        elif action == 'E':\n",
    "            pos[0] = pos[0] + value\n",
    "        elif action == 'W':\n",
    "            pos[0] = pos[0] - value\n",
    "        elif action == 'L':\n",
    "            rad = np.deg2rad(value)\n",
    "            rot = [[ np.cos(rad), -np.sin(rad)], [np.sin(rad), np.cos(rad)]]\n",
    "            dd = np.dot(rot, dd).astype(int)\n",
    "        elif action == 'R':\n",
    "            rad = -np.deg2rad(value)\n",
    "            rot = [[ np.cos(rad), -np.sin(rad)], [np.sin(rad), np.cos(rad)]]\n",
    "            dd = np.dot(rot, dd).astype(int)    \n",
    "    p1 = np.sum(np.abs(pos))\n",
    "\n",
    "    pos = np.array([0, 0])\n",
    "    wp_pos = np.array([10, 1])\n",
    "\n",
    "    for (action, value) in nav:\n",
    "        if action == 'F':\n",
    "            pos = pos + value * wp_pos     \n",
    "        elif action == 'N':\n",
    "            wp_pos[1] = wp_pos[1] + value\n",
    "        elif action == 'S':\n",
    "            wp_pos[1] = wp_pos[1] - value\n",
    "        elif action == 'E':\n",
    "            wp_pos[0] = wp_pos[0] + value\n",
    "        elif action == 'W':\n",
    "            wp_pos[0] = wp_pos[0] - value\n",
    "        elif action == 'L':\n",
    "            rad = np.deg2rad(value)\n",
    "            rot = [[ np.cos(rad), -np.sin(rad)], [np.sin(rad), np.cos(rad)]]\n",
    "            wp_pos = np.dot(rot, wp_pos)\n",
    "        elif action == 'R':\n",
    "            rad = -np.deg2rad(value)\n",
    "            rot = [[ np.cos(rad), -np.sin(rad)], [np.sin(rad), np.cos(rad)]]\n",
    "            wp_pos = np.dot(rot, wp_pos)\n",
    "    p2 = int(np.sum(np.abs(pos)))\n",
    "    return (p1, p2)"
   ]
  },
  {
   "cell_type": "code",
   "execution_count": 9,
   "metadata": {},
   "outputs": [
    {
     "name": "stdout",
     "output_type": "stream",
     "text": [
      "day1\n",
      "part 1:  1007331\n",
      "part 2:  48914340\n",
      "elapsed:  0.1756298250402324\n",
      "\n",
      "day2\n",
      "part 1:  569\n",
      "part 2:  346\n",
      "elapsed:  0.0031037969747558236\n",
      "\n",
      "day12\n",
      "part 1:  882\n",
      "part 2:  28885\n",
      "elapsed:  0.004975204006768763\n",
      "\n"
     ]
    }
   ],
   "source": [
    "from timeit import default_timer as timer\n",
    "\n",
    "DEBUG = False\n",
    "\n",
    "run = [\n",
    "    (day1, 1007331, 48914340),\n",
    "    (day2, 569, 346),\n",
    "    (day12, 882, 28885)\n",
    "]\n",
    "    \n",
    "for vv in run:\n",
    "    idx = int(vv[0].__name__[3:])\n",
    "    \n",
    "    start = timer()\n",
    "    (p1, p2) = vv[0](read_lines(idx))\n",
    "    end = timer()\n",
    "    \n",
    "    print(vv[0].__name__)\n",
    "    print('part 1: ', p1)\n",
    "    print('part 2: ', p2)\n",
    "    print('elapsed: ', end - start)\n",
    "    print()"
   ]
  },
  {
   "cell_type": "code",
   "execution_count": null,
   "metadata": {},
   "outputs": [],
   "source": []
  }
 ],
 "metadata": {
  "kernelspec": {
   "display_name": "Python 3",
   "language": "python",
   "name": "python3"
  },
  "language_info": {
   "codemirror_mode": {
    "name": "ipython",
    "version": 3
   },
   "file_extension": ".py",
   "mimetype": "text/x-python",
   "name": "python",
   "nbconvert_exporter": "python",
   "pygments_lexer": "ipython3",
   "version": "3.8.10"
  }
 },
 "nbformat": 4,
 "nbformat_minor": 4
}
