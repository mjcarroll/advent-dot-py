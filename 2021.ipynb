{
 "cells": [
  {
   "cell_type": "code",
   "execution_count": 1,
   "metadata": {},
   "outputs": [
    {
     "name": "stdout",
     "output_type": "stream",
     "text": [
      "Populating the interactive namespace from numpy and matplotlib\n"
     ]
    }
   ],
   "source": [
    "%pylab inline\n",
    "import numpy as np"
   ]
  },
  {
   "cell_type": "code",
   "execution_count": 2,
   "metadata": {},
   "outputs": [],
   "source": [
    "def read_lines(day):\n",
    "    with open(f'data/2021/{day}.txt', 'r') as f:\n",
    "        lines = f.readlines()\n",
    "    return [line.strip() for line in lines]\n",
    "\n",
    "def read_ints(day):\n",
    "    lines = read_lines(day)\n",
    "    return list(map(int, lines))"
   ]
  },
  {
   "cell_type": "code",
   "execution_count": 3,
   "metadata": {},
   "outputs": [],
   "source": [
    "def day1():\n",
    "    vals = read_ints(1)\n",
    "    part1 = sum(np.diff(vals) > 0)\n",
    "    \n",
    "    windowed = np.convolve(vals, np.ones(3), mode='valid')\n",
    "    part2 = sum(diff(windowed) > 0)\n",
    "    return (part1, part2)"
   ]
  },
  {
   "cell_type": "code",
   "execution_count": 4,
   "metadata": {},
   "outputs": [],
   "source": [
    "def day2():\n",
    "    lines = read_lines(2)\n",
    "    pairs = [line.split() for line in lines]\n",
    "    pairs = [(d, int(v)) for (d,v) in pairs]\n",
    "    \n",
    "    x = 0; z = 0\n",
    "    for (d, v) in pairs:\n",
    "        if d == 'forward':\n",
    "            x = x + v\n",
    "        elif d == 'down':\n",
    "            z = z + v\n",
    "        elif d == 'up':\n",
    "            z = z - v\n",
    "    p1 = x * z\n",
    "            \n",
    "    x = 0; z = 0; aim = 0\n",
    "    for (d, v) in pairs:\n",
    "        if d == 'forward':\n",
    "            x = x + v\n",
    "            z = z + aim * v\n",
    "        elif d == 'down':\n",
    "            aim = aim + v\n",
    "        elif d == 'up':\n",
    "            aim = aim - v\n",
    "    p2 = x * z\n",
    "    \n",
    "    return (p1, p2)"
   ]
  },
  {
   "cell_type": "code",
   "execution_count": 5,
   "metadata": {},
   "outputs": [
    {
     "name": "stdout",
     "output_type": "stream",
     "text": [
      "day1\n",
      "part 1:  1521\n",
      "part 2:  1543\n",
      "day2\n",
      "part 1:  1451208\n",
      "part 2:  1620141160\n"
     ]
    }
   ],
   "source": [
    "run = [day1, day2]\n",
    "\n",
    "for day in run:\n",
    "    (p1, p2) = day()\n",
    "    print(day.__name__)\n",
    "    print('part 1: ', p1)\n",
    "    print('part 2: ', p2)"
   ]
  },
  {
   "cell_type": "code",
   "execution_count": null,
   "metadata": {},
   "outputs": [],
   "source": []
  }
 ],
 "metadata": {
  "kernelspec": {
   "display_name": "Python 3",
   "language": "python",
   "name": "python3"
  },
  "language_info": {
   "codemirror_mode": {
    "name": "ipython",
    "version": 3
   },
   "file_extension": ".py",
   "mimetype": "text/x-python",
   "name": "python",
   "nbconvert_exporter": "python",
   "pygments_lexer": "ipython3",
   "version": "3.8.10"
  }
 },
 "nbformat": 4,
 "nbformat_minor": 4
}
